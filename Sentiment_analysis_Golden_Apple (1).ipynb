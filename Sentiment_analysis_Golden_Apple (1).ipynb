{
  "nbformat": 4,
  "nbformat_minor": 0,
  "metadata": {
    "colab": {
      "provenance": []
    },
    "kernelspec": {
      "name": "python3",
      "display_name": "Python 3"
    },
    "language_info": {
      "name": "python"
    }
  },
  "cells": [
    {
      "cell_type": "markdown",
      "source": [
        "## Data Source & Translation Information\n",
        "\n",
        "The data presented here was **scraped from 2GIS**. The scraper used for this process is **under NDA**, and details about its implementation cannot be disclosed.\n",
        "\n",
        "The original reviews were written in **Russian**. The translation into **English** was performed **manually** by ChatGPT without using any third-party **API services**. This approach was chosen to **avoid additional costs** for the project."
      ],
      "metadata": {
        "id": "noeIRsE239Wq"
      }
    },
    {
      "cell_type": "code",
      "source": [
        "reviews_with_ratings = {\n",
        "    \"I always buy perfumes here, great selection and reasonable prices.\": 5,\n",
        "    \"The consultants really know their cosmetics, thanks for the advice!\": 4,\n",
        "    \"I liked the discount system, I can buy my favorite cosmetics cheaper.\": 4,\n",
        "    \"Very convenient website, easy to find and order the products I need.\": 4,\n",
        "    \"I love this store for exclusive fragrances that I can't find anywhere else.\": 5,\n",
        "    \"The packaging is always flawless, a pleasure to open!\": 5,\n",
        "    \"Fast delivery, my order arrived even earlier than expected.\": 5,\n",
        "    \"The consultant helped me find the perfect cream for my skin.\": 4,\n",
        "    \"The bonus system is great, I accumulated points and bought perfume at a good discount!\": 5,\n",
        "    \"The decorative cosmetics here are top-notch, especially the eyeshadows and lipsticks.\": 5,\n",
        "    \"The store impresses with the quality of its products and service.\": 5,\n",
        "    \"I love that they often have exclusive collections and limited editions.\": 5,\n",
        "    \"Great service, the staff is attentive and friendly.\": 5,\n",
        "    \"The perfume is long-lasting and original, stays on my skin all day.\": 5,\n",
        "    \"Very beautifully designed stores, it's a pleasure to visit.\": 5,\n",
        "    \"I often buy gifts here, always great quality.\": 5,\n",
        "    \"The mascara I bought turned out to be amazing, I'll only buy it here from now on!\": 5,\n",
        "    \"Fast delivery, the product arrived in perfect condition.\": 5,\n",
        "    \"Very convenient pick-up system, no waiting required.\": 4,\n",
        "    \"The bonus program is beneficial, it's easy to accumulate points.\": 5,\n",
        "    \"I love this store and always keep an eye on new arrivals.\": 5,\n",
        "    \"You can always test products before purchasing.\": 4,\n",
        "    \"Authentic perfumes, verified with certificates.\": 5,\n",
        "    \"The staff is polite and doesn't push unnecessary products but genuinely helps.\": 5,\n",
        "    \"Lots of niche cosmetics that you won't find in other stores.\": 4,\n",
        "    \"The store is good, but the selection could be bigger.\": 3,\n",
        "    \"The consultants are friendly, but sometimes they can't help with rare brands.\": 3,\n",
        "    \"Delivery arrived on time, but the packaging was slightly crumpled.\": 3,\n",
        "    \"Prices are average, you can find cheaper options in other stores.\": 3,\n",
        "    \"I've shopped here several times, but products sell out quickly.\": 3,\n",
        "    \"Nice store, but avoid it during holidays – the lines are huge.\": 3,\n",
        "    \"Cosmetics are high-quality, but it's not always easy to find the right shade.\": 3,\n",
        "    \"Samples are included in orders, but I wish there were more.\": 3,\n",
        "    \"There are great discounts, but they rarely apply to popular products.\": 3,\n",
        "    \"Sometimes consultants are busy, and you have to wait for help.\": 3,\n",
        "    \"The perfume is nice, but the longevity is weaker than expected.\": 3,\n",
        "    \"It's easy to order online, but the in-store selection is better.\": 3,\n",
        "    \"The cream is okay, but the price could be lower.\": 3,\n",
        "    \"The store is beautiful, but sometimes it’s hard to find what you need.\": 3,\n",
        "    \"Delivery works fine, but delays do happen.\": 3,\n",
        "    \"The bonus system is interesting, but the rules could be simpler.\": 3,\n",
        "    \"Bought a foundation, but the shade was slightly darker than expected.\": 3,\n",
        "    \"Discounts aren't always available on the products I want.\": 3,\n",
        "    \"A lot of interesting brands, but some popular ones are missing.\": 3,\n",
        "    \"The store is good, but they need more staff during peak hours.\": 3,\n",
        "    \"Testers are available, but not for all shades.\": 3,\n",
        "    \"The website sometimes lags when placing an order, but overall, it’s convenient.\": 3,\n",
        "    \"Courier delivery is convenient, but it’s not always on time.\": 3,\n",
        "    \"Prices are reasonable, but some products are a bit overpriced.\": 3,\n",
        "    \"Nice selection, but I wish they had more budget-friendly brands.\": 3,\n",
        "    \"Consultants are knowledgeable, but sometimes you have to wait for assistance.\": 3,\n",
        "    \"Bought a shampoo here, it’s okay but not worth the price.\": 3,\n",
        "    \"The perfume is pleasant, but the longevity could be better.\": 3,\n",
        "    \"Good selection, but I wish there were more promotions.\": 3,\n",
        "    \"Prices are too high; you can find cheaper options elsewhere.\": 1,\n",
        "    \"Consultants aren’t always helpful and sometimes give contradictory advice.\": 1,\n",
        "    \"Delivery was delayed, I had to call customer service.\": 1,\n",
        "    \"Some products are listed as available online but are out of stock in-store.\": 1,\n",
        "    \"No samples were included in my order, even though they were promised.\": 1,\n",
        "    \"Ordered a perfume, but the box was severely damaged.\": 1,\n",
        "    \"Not many budget-friendly brands, mostly just luxury.\": 1,\n",
        "    \"Bought a cream, but it had an expired shelf life.\": 1,\n",
        "    \"The store is good, but the checkout lines are enormous.\": 1,\n",
        "    \"Cosmetics are high-quality, but the service isn’t always satisfying.\": 1,\n",
        "    \"The perfume fades quickly, I expected better longevity.\": 1,\n",
        "    \"The website shows discounts, but they don’t apply in the store.\": 1,\n",
        "    \"Consultants push expensive products even when I ask for something affordable.\": 1,\n",
        "    \"Too few testers, making it hard to choose the right foundation shade.\": 1,\n",
        "    \"The website froze when placing an order, so I had to redo it.\": 1,\n",
        "    \"Delivery was delayed by two days, and customer support was slow to respond.\": 1,\n",
        "    \"During holidays, the store is overcrowded, making it impossible to shop.\": 1,\n",
        "    \"No samples in my order, even though I spent a large amount.\": 1,\n",
        "    \"Prices are higher than in other places, even though the quality is good.\": 1,\n",
        "    \"Not all consultants are knowledgeable, and getting useful advice can be difficult.\": 1,\n",
        "    \"The perfume was nice, but the longevity was average.\": 3,\n",
        "    \"Consultants helped, but I had to wait a long time.\": 3,\n",
        "    \"A good store, but sometimes it's hard to find the right product.\": 3,\n",
        "    \"The packaging was good, but I wish they included more samples.\": 3,\n",
        "    \"Prices aren't always appealing, but the quality is good.\": 3,\n",
        "    \"Delivery was slightly delayed, but the product was fine.\": 3,\n",
        "    \"The bonus system is interesting, but it’s hard to accumulate points.\": 3,\n",
        "    \"The selection is good, but I wish they had more budget-friendly brands.\": 3,\n",
        "    \"Consultants are friendly, but they’re often busy and can't help immediately.\": 3,\n",
        "    \"The store looks nice, but it’s too crowded during holidays.\": 3,\n",
        "    \"The website is user-friendly, but there are occasional glitches.\": 3,\n",
        "    \"The perfume is good, but it’s more expensive than I expected.\": 3,\n",
        "    \"Cosmetics are high-quality, but I wish they had more variety.\": 3,\n",
        "    \"The store is nice, but checkout was slow.\": 3,\n",
        "    \"Ordered a cream, it worked well, but it was overpriced.\": 3,\n",
        "    \"Good selection, but not all products are in stock all the time.\": 3,\n",
        "    \"The perfume is original, but the packaging was slightly damaged.\": 3,\n",
        "    \"Consultants are professional, but not always available.\": 3,\n",
        "    \"The website lags sometimes, but overall, it’s easy to order.\": 3,\n",
        "    \"The mascara was good, but the price could be lower.\": 3,\n",
        "}"
      ],
      "metadata": {
        "id": "gv79UsHTbUFO"
      },
      "execution_count": 13,
      "outputs": []
    },
    {
      "cell_type": "code",
      "source": [
        "new_reviews_with_ratings = {\n",
        "    \"I love shopping here! They always have the latest beauty products.\": 5,\n",
        "    \"The perfume selection is amazing, I found my signature scent here!\": 5,\n",
        "    \"Customer service is top-notch. The consultants are always friendly and helpful.\": 5,\n",
        "    \"Fast and efficient delivery, my order arrived well-packaged.\": 5,\n",
        "    \"Their loyalty program is fantastic! I saved so much on my last purchase.\": 4,\n",
        "    \"The store is always clean and well-organized, making shopping a great experience.\": 5,\n",
        "    \"Their online store is super easy to navigate, making ordering a breeze.\": 4,\n",
        "    \"I always get compliments on the perfumes I buy from here!\": 4,\n",
        "    \"The staff really knows their products and gives great recommendations.\": 5,\n",
        "    \"One of the best places to buy high-end cosmetics.\": 4,\n",
        "    \"Great promotions and discounts throughout the year!\": 5,\n",
        "    \"I love that they have testers available for most products.\": 5,\n",
        "    \"Everything I buy here is authentic and high-quality.\": 5,\n",
        "    \"Such a stylish and luxurious shopping experience!\": 4,\n",
        "    \"The consultants helped me find the perfect shade of foundation.\": 5,\n",
        "    \"Always a pleasant shopping experience, both in-store and online.\": 4,\n",
        "    \"I received my order beautifully packed, perfect for a gift!\": 5,\n",
        "    \"They carry exclusive brands that you can’t find elsewhere.\": 5,\n",
        "    \"Good value for money, especially during sales.\": 4,\n",
        "    \"Their skincare selection is impressive, they have everything I need.\": 4,\n",
        "    \"I appreciate the wide range of niche perfumes.\": 4,\n",
        "    \"Very professional and knowledgeable staff.\": 4,\n",
        "    \"Their makeup lasts all day, I’m very satisfied!\": 4,\n",
        "    \"Orders always arrive on time with no issues.\": 4,\n",
        "    \"Easy returns policy, which is a big plus!\": 4,\n",
        "    \"The store is nice, but the prices are a bit high for some items.\": 4,\n",
        "    \"Good selection of perfumes, but some popular brands are always sold out.\": 4,\n",
        "    \"Decent shopping experience, but it gets crowded on weekends.\": 1,\n",
        "    \"The website is functional but can be slow at times.\": 1,\n",
        "    \"Customer service is helpful, but sometimes they seem rushed.\": 3,\n",
        "    \"I like the store, but I wish they had more budget-friendly options.\": 5,\n",
        "    \"The quality is good, but I have found better deals elsewhere.\": 4,\n",
        "    \"Their promotions are good, but not always on the items I want.\": 4,\n",
        "    \"Nice store layout, but it's hard to find staff when you need assistance.\": 1,\n",
        "    \"They offer samples with some orders, but not all the time.\": 4,\n",
        "    \"Delivery is okay, but sometimes takes a little longer than expected.\": 3,\n",
        "    \"Not a bad store, but I wouldn’t call it my favorite.\": 4,\n",
        "    \"Good selection, but some items go out of stock too quickly.\": 4,\n",
        "    \"Their loyalty program is decent, but not the best I’ve seen.\": 4,\n",
        "    \"The foundation I bought is good, but the shade is slightly off.\": 3,\n",
        "    \"I like their products, but I wish they offered more discounts.\": 4,\n",
        "    \"Great variety, but some items are overpriced.\": 5,\n",
        "    \"Consultants are helpful, but sometimes hard to find.\": 3,\n",
        "    \"A nice place to shop, but it could be more budget-friendly.\": 5,\n",
        "    \"The products are good, but the waiting time at checkout is too long.\": 4,\n",
        "    \"Packaging is nice, but they should improve their shipping protection.\": 4,\n",
        "    \"Perfume quality is fine, but the scent fades faster than I expected.\": 5,\n",
        "    \"Their makeup is decent, but I have used better brands.\": 4,\n",
        "    \"A good store, but they should improve customer service during peak hours.\": 4,\n",
        "    \"The skincare range is great, but it’s hard to get advice on what to buy.\": 5,\n",
        "    \"A bit pricey, but they do have some unique brands.\": 4,\n",
        "    \"Their online store works fine, but adding more filters would help.\": 3,\n",
        "    \"Good experience overall, but nothing exceptional.\": 4,\n",
        "    \"The testers are nice, but they don’t always have all shades available.\": 4,\n",
        "    \"Prices are way too high compared to other stores.\": 4,\n",
        "    \"The online store is confusing and hard to navigate.\": 1,\n",
        "    \"Delivery was late, and customer service didn’t help much.\": 4,\n",
        "    \"They ran out of my product after I placed my order, very frustrating!\": 4,\n",
        "    \"I bought a perfume here, but it didn’t last long at all.\": 4,\n",
        "    \"The checkout lines are ridiculously long, even on normal days.\": 4,\n",
        "    \"I received a damaged product, and returning it was a hassle.\": 1,\n",
        "    \"Customer service is hit or miss—sometimes helpful, sometimes rude.\": 3,\n",
        "    \"Some consultants push expensive products instead of helping with my needs.\": 1,\n",
        "    \"The testers are dried out, making it hard to choose the right shade.\": 1,\n",
        "    \"The website shows one price, but the store charged me more.\": 4,\n",
        "    \"Some products are overpriced for the quality they offer.\": 1,\n",
        "    \"I bought foundation, but the shade was completely off despite staff recommendations.\": 4,\n",
        "    \"Their sales are misleading—the discounts are often minimal.\": 4,\n",
        "    \"Delivery took longer than expected, with no updates.\": 4,\n",
        "    \"I wish they had more affordable brands, everything is too high-end.\": 4,\n",
        "    \"Not a great experience—staff ignored me the entire time.\": 5,\n",
        "    \"The fragrance I bought smells different from what I tested in the store.\": 4,\n",
        "    \"Their return policy is complicated and not customer-friendly.\": 5,\n",
        "    \"I won’t shop here again, too many issues with their service.\": 4,\n",
        "    \"The store is nice, but they don’t always have my favorite products in stock.\": 4,\n",
        "    \"A decent experience, but not my top choice for beauty products.\": 4,\n",
        "    \"The website works fine, but they could improve their mobile version.\": 3,\n",
        "    \"Some promotions are great, but they don’t apply to all products.\": 5,\n",
        "    \"The perfumes are good, but I’ve found better longevity in other brands.\": 4,\n",
        "    \"Customer service is friendly, but sometimes slow.\": 5,\n",
        "    \"Delivery was fine, but I wish it were a bit faster.\": 5,\n",
        "    \"Not bad, but not amazing either.\": 5,\n",
        "    \"I like the range of products, but some items feel overpriced.\": 1,\n",
        "    \"The staff is polite, but sometimes they seem overwhelmed.\": 5,\n",
        "    \"The gift packaging is nice, but the additional fee is too high.\": 4,\n",
        "    \"It’s an okay place to shop, but nothing special.\": 3,\n",
        "    \"My order arrived correctly, but the box was slightly damaged.\": 3,\n",
        "    \"The loyalty program works, but it takes too long to accumulate points.\": 4,\n",
        "    \"They have nice limited editions, but they sell out way too fast.\": 5,\n",
        "    \"Some of their makeup shades don’t match the descriptions online.\": 4,\n",
        "    \"Good variety, but I wish they carried more budget-friendly brands.\": 5,\n",
        "    \"The quality is great, but not always worth the price.\": 5,\n",
        "    \"Consultants are generally helpful, but they’re often too busy.\": 1,\n",
        "    \"Shipping was on time, but the packaging wasn’t very protective.\": 4,\n",
        "    \"They offer testers, but I wish they had more of them available.\": 4,\n",
        "    \"The store atmosphere is nice, but it’s always too crowded.\": 1,\n",
        "    \"Their website sometimes glitches during checkout.\": 3,\n",
        "    \"Prices are slightly high, but the selection is decent.\": 3,\n",
        "    \"An okay shopping experience, but I prefer other beauty stores.\": 3,\n",
        "    \"The skincare section is good, but hard to find specific products.\": 1,\n",
        "    \"I like their promotions, but they should offer more discounts.\": 4,\n",
        "    \"Good store, but not my first choice for cosmetics.\": 4,\n",
        "    \"Products are good, but I expected better customer service.\": 4,\n",
        "}"
      ],
      "metadata": {
        "id": "lJad2tIBfl6_"
      },
      "execution_count": 14,
      "outputs": []
    },
    {
      "cell_type": "code",
      "source": [
        "more_reviews_with_ratings = {\n",
        "    \"Amazing store! They always have the best selection of beauty products.\": 5,\n",
        "    \"I found a rare perfume here that I couldn’t get anywhere else.\": 5,\n",
        "    \"Staff are super friendly and knowledgeable about the products.\": 5,\n",
        "    \"Their discounts and promotions are excellent!\": 5,\n",
        "    \"Beautifully packaged orders, I love unboxing them!\": 5,\n",
        "    \"Fast delivery and great customer service!\": 5,\n",
        "    \"The store layout is perfect, easy to navigate and shop.\": 5,\n",
        "    \"Everything I bought here is original and high quality.\": 5,\n",
        "    \"Best place to buy luxury cosmetics and fragrances.\": 5,\n",
        "    \"Their foundation selection is amazing—so many shades!\": 5,\n",
        "    \"They often have exclusive perfumes that are hard to find elsewhere.\": 5,\n",
        "    \"I always get compliments on the fragrances I buy here!\": 5,\n",
        "    \"Super easy to order online, and the process is smooth.\": 5,\n",
        "    \"Love the testers available in-store, it helps a lot when choosing!\": 5,\n",
        "    \"Every order comes beautifully packaged, feels like a gift!\": 5,\n",
        "    \"Their makeup collection is top-tier, especially their lipsticks.\": 5,\n",
        "    \"I appreciate the helpful staff, they really know their stuff.\": 5,\n",
        "    \"The store has a very luxurious feel, love shopping here.\": 5,\n",
        "    \"Their loyalty program is the best! I get great discounts.\": 5,\n",
        "    \"Love how they keep bringing in new brands and products.\": 5,\n",
        "    \"The perfumes last all day and smell fantastic!\": 5,\n",
        "    \"Fastest delivery ever, I got my order within 24 hours!\": 5,\n",
        "    \"Consultants take the time to help you choose the perfect product.\": 5,\n",
        "    \"Great experience, both in-store and online!\": 5,\n",
        "    \"Superb packaging, makes gift-giving effortless!\": 5,\n",
        "    \"They even included free samples in my order, such a nice touch!\": 5,\n",
        "    \"Such a premium shopping experience, I feel special every time.\": 5,\n",
        "    \"Always a pleasure shopping here, they have everything I need.\": 5,\n",
        "    \"Good price-to-quality ratio, worth every penny!\": 5,\n",
        "    \"I can always find something new and exciting in their collection.\": 5,\n",
        "    \"Amazing selection of both budget-friendly and luxury products.\": 5,\n",
        "    \"Customer service was extremely patient and kind.\": 5,\n",
        "    \"Highly recommend their skincare range—high quality and effective.\": 5,\n",
        "    \"Their online store is just as good as the physical one!\": 5,\n",
        "    \"I always trust them for my beauty needs, never had a bad experience.\": 5,\n",
        "    \"Consultants recommended me the perfect perfume, love it!\": 5,\n",
        "    \"Their haircare products work wonders, highly recommend!\": 5,\n",
        "    \"The staff is so polite and never pushy!\": 5,\n",
        "    \"They really care about customers and provide great service.\": 5,\n",
        "    \"Even during sales, they maintain high service standards.\": 5,\n",
        "    \"This store is my go-to for gifts, always beautifully wrapped.\": 5,\n",
        "    \"Their perfume recommendations are always spot on!\": 5,\n",
        "    \"Luxury experience at reasonable prices, best of both worlds!\": 5,\n",
        "    \"Shopping here is such a treat, feels like a high-end boutique.\": 5,\n",
        "    \"They stock all my favorite niche brands!\": 5,\n",
        "    \"Superb shopping experience, I’ll be back for sure!\": 5,\n",
        "    \"One of the best beauty stores I’ve ever visited!\": 5,\n",
        "    \"Nice store, but it gets too crowded during peak hours.\": 3,\n",
        "    \"The selection is good, but some items sell out too quickly.\": 3,\n",
        "    \"I like their products, but the prices are a little high.\": 3,\n",
        "    \"Good customer service, but they can be slow when busy.\": 3,\n",
        "    \"Great range of makeup, but testers aren't always available.\": 3,\n",
        "    \"Nice packaging, but I wish they added more free samples.\": 3,\n",
        "    \"The quality is good, but I expected a little more for the price.\": 3,\n",
        "    \"Online shopping is convenient, but their website lags sometimes.\": 3,\n",
        "    \"They have a great range of perfumes, but some are overpriced.\": 3,\n",
        "    \"Customer service is helpful, but I had to wait a long time.\": 3,\n",
        "    \"Their discounts are nice, but not always on the best products.\": 3,\n",
        "    \"Good store, but I wish they had more affordable options.\": 3,\n",
        "    \"A decent shopping experience, but nothing special.\": 3,\n",
        "    \"Consultants are polite, but not all are knowledgeable.\": 3,\n",
        "    \"Delivery was fine, but not the fastest I've seen.\": 3,\n",
        "    \"They have a nice loyalty program, but it takes too long to accumulate points.\": 3,\n",
        "    \"Product range is good, but some shades sell out too fast.\": 3,\n",
        "    \"A bit overpriced, but the quality is generally good.\": 3,\n",
        "    \"The perfume selection is nice, but some scents don’t last long.\": 3,\n",
        "    \"Their website is fine, but needs a better filtering system.\": 3,\n",
        "    \"They have good gift sets, but they run out of stock quickly.\": 3,\n",
        "    \"Nice layout in the store, but they need more checkout counters.\": 3,\n",
        "    \"Prices are fair, but not the cheapest option available.\": 3,\n",
        "    \"They carry many brands, but not always the latest collections.\": 3,\n",
        "    \"A good store, but I wouldn’t call it my favorite.\": 3,\n",
        "    \"Packaging was fine, but my box was slightly dented.\": 3,\n",
        "    \"The foundation I bought was nice, but not the perfect match.\": 3,\n",
        "    \"Not bad, but could be better with more promotions.\": 3,\n",
        "    \"I like the selection, but some brands are missing.\": 3,\n",
        "    \"Prices are too high for the quality offered.\": 1,\n",
        "    \"Their online system is confusing and glitchy.\": 1,\n",
        "    \"Delivery was delayed with no updates from customer support.\": 1,\n",
        "    \"Ordered a perfume, but the scent didn’t last at all.\": 1,\n",
        "    \"Customer service was rude when I asked for a refund.\": 1,\n",
        "    \"Lines at checkout are way too long!\": 1,\n",
        "    \"Consultants kept pushing expensive products on me.\": 1,\n",
        "    \"I received a damaged product, and returning it was difficult.\": 1,\n",
        "    \"Their website is slow, and placing an order was frustrating.\": 1,\n",
        "    \"They advertise discounts, but the actual reductions are tiny.\": 1,\n",
        "    \"Customer support barely responds to emails.\": 1,\n",
        "    \"My perfume came with a broken cap, very disappointing.\": 1,\n",
        "    \"I ordered a lipstick, but the color was completely different from the picture.\": 1,\n",
        "    \"The tester I used in-store smelled different from the actual perfume.\": 1,\n",
        "    \"Overpriced products with average quality.\": 1,\n",
        "    \"Delivery fees are way too high for the service provided.\": 1,\n",
        "    \"They don’t let you return makeup, even if it’s unused.\": 1,\n",
        "    \"Staff was dismissive when I asked for recommendations.\": 1,\n",
        "    \"Loyalty points expire too quickly, making them useless.\": 1,\n",
        "    \"They need more cash registers, the wait time is unacceptable.\": 1,\n",
        "    \"My order was canceled after payment, and I had to fight for a refund.\": 1,\n",
        "    \"Too many limited-edition items that sell out immediately.\": 1,\n",
        "    \"Website crashes frequently during big sales.\": 1,\n",
        "    \"The perfume I bought smelled nice but disappeared in 30 minutes.\": 1,\n",
        "    \"Customer service gave me incorrect information about a product.\": 1,\n",
        "    \"Some testers are dried out and unusable.\": 1,\n",
        "    \"Refund policy is too strict, be careful before buying.\": 1,\n",
        "    \"They sent me the wrong shade of foundation and refused an exchange.\": 1,\n",
        "    \"Not a great experience, will shop elsewhere next time.\": 1,\n",
        "}"
      ],
      "metadata": {
        "id": "6RX_Yd8M32ru"
      },
      "execution_count": 15,
      "outputs": []
    },
    {
      "cell_type": "code",
      "source": [
        "all_reviews_with_ratings = {}\n",
        "all_reviews_with_ratings.update(reviews_with_ratings)\n",
        "all_reviews_with_ratings.update(new_reviews_with_ratings)\n",
        "all_reviews_with_ratings.update(more_reviews_with_ratings)"
      ],
      "metadata": {
        "id": "u_UtQ3B-AQTg"
      },
      "execution_count": 16,
      "outputs": []
    },
    {
      "cell_type": "code",
      "source": [
        "len(all_reviews_with_ratings)"
      ],
      "metadata": {
        "colab": {
          "base_uri": "https://localhost:8080/"
        },
        "id": "-3J7BCSAurvI",
        "outputId": "a7a82aa7-9b1f-49cc-9875-23f274acfa44"
      },
      "execution_count": 17,
      "outputs": [
        {
          "output_type": "execute_result",
          "data": {
            "text/plain": [
              "302"
            ]
          },
          "metadata": {},
          "execution_count": 17
        }
      ]
    },
    {
      "cell_type": "markdown",
      "source": [
        "# Sentiment analysis"
      ],
      "metadata": {
        "id": "-KkC3Fd14qQp"
      }
    },
    {
      "cell_type": "code",
      "source": [
        "from transformers import pipeline\n",
        "import pandas as pd\n",
        "\n",
        "sentiment_pipeline = pipeline(\"sentiment-analysis\", model=\"nlptown/bert-base-multilingual-uncased-sentiment\")\n",
        "\n",
        "all_reviews = list(all_reviews_with_ratings.keys())\n",
        "\n",
        "sentiment_results = sentiment_pipeline(all_reviews)\n",
        "\n",
        "df_sentiment = pd.DataFrame({\n",
        "    \"Review\": all_reviews,\n",
        "    \"Predicted Sentiment\": [result[\"label\"] for result in sentiment_results],\n",
        "    \"Confidence Score\": [result[\"score\"] for result in sentiment_results],\n",
        "    'Actual Rating': list(all_reviews_with_ratings.values())\n",
        "})\n",
        "\n",
        "df_sentiment"
      ],
      "metadata": {
        "colab": {
          "base_uri": "https://localhost:8080/",
          "height": 442
        },
        "id": "nLFG3lMu34Ln",
        "outputId": "0f5d8820-ba79-4247-b094-9375d0c036d2"
      },
      "execution_count": 18,
      "outputs": [
        {
          "output_type": "stream",
          "name": "stderr",
          "text": [
            "Device set to use cpu\n"
          ]
        },
        {
          "output_type": "execute_result",
          "data": {
            "text/plain": [
              "                                                Review Predicted Sentiment  \\\n",
              "0    I always buy perfumes here, great selection an...             5 stars   \n",
              "1    The consultants really know their cosmetics, t...             5 stars   \n",
              "2    I liked the discount system, I can buy my favo...             4 stars   \n",
              "3    Very convenient website, easy to find and orde...             5 stars   \n",
              "4    I love this store for exclusive fragrances tha...             5 stars   \n",
              "..                                                 ...                 ...   \n",
              "297  Customer service gave me incorrect information...              1 star   \n",
              "298           Some testers are dried out and unusable.             2 stars   \n",
              "299  Refund policy is too strict, be careful before...              1 star   \n",
              "300  They sent me the wrong shade of foundation and...              1 star   \n",
              "301  Not a great experience, will shop elsewhere ne...             2 stars   \n",
              "\n",
              "     Confidence Score  Actual Rating  \n",
              "0            0.868498              5  \n",
              "1            0.539682              4  \n",
              "2            0.458273              4  \n",
              "3            0.665177              4  \n",
              "4            0.809355              5  \n",
              "..                ...            ...  \n",
              "297          0.478129              1  \n",
              "298          0.481462              1  \n",
              "299          0.464113              1  \n",
              "300          0.734445              1  \n",
              "301          0.589826              1  \n",
              "\n",
              "[302 rows x 4 columns]"
            ],
            "text/html": [
              "\n",
              "  <div id=\"df-74248aba-8eab-45c8-a8c3-bca417475dd4\" class=\"colab-df-container\">\n",
              "    <div>\n",
              "<style scoped>\n",
              "    .dataframe tbody tr th:only-of-type {\n",
              "        vertical-align: middle;\n",
              "    }\n",
              "\n",
              "    .dataframe tbody tr th {\n",
              "        vertical-align: top;\n",
              "    }\n",
              "\n",
              "    .dataframe thead th {\n",
              "        text-align: right;\n",
              "    }\n",
              "</style>\n",
              "<table border=\"1\" class=\"dataframe\">\n",
              "  <thead>\n",
              "    <tr style=\"text-align: right;\">\n",
              "      <th></th>\n",
              "      <th>Review</th>\n",
              "      <th>Predicted Sentiment</th>\n",
              "      <th>Confidence Score</th>\n",
              "      <th>Actual Rating</th>\n",
              "    </tr>\n",
              "  </thead>\n",
              "  <tbody>\n",
              "    <tr>\n",
              "      <th>0</th>\n",
              "      <td>I always buy perfumes here, great selection an...</td>\n",
              "      <td>5 stars</td>\n",
              "      <td>0.868498</td>\n",
              "      <td>5</td>\n",
              "    </tr>\n",
              "    <tr>\n",
              "      <th>1</th>\n",
              "      <td>The consultants really know their cosmetics, t...</td>\n",
              "      <td>5 stars</td>\n",
              "      <td>0.539682</td>\n",
              "      <td>4</td>\n",
              "    </tr>\n",
              "    <tr>\n",
              "      <th>2</th>\n",
              "      <td>I liked the discount system, I can buy my favo...</td>\n",
              "      <td>4 stars</td>\n",
              "      <td>0.458273</td>\n",
              "      <td>4</td>\n",
              "    </tr>\n",
              "    <tr>\n",
              "      <th>3</th>\n",
              "      <td>Very convenient website, easy to find and orde...</td>\n",
              "      <td>5 stars</td>\n",
              "      <td>0.665177</td>\n",
              "      <td>4</td>\n",
              "    </tr>\n",
              "    <tr>\n",
              "      <th>4</th>\n",
              "      <td>I love this store for exclusive fragrances tha...</td>\n",
              "      <td>5 stars</td>\n",
              "      <td>0.809355</td>\n",
              "      <td>5</td>\n",
              "    </tr>\n",
              "    <tr>\n",
              "      <th>...</th>\n",
              "      <td>...</td>\n",
              "      <td>...</td>\n",
              "      <td>...</td>\n",
              "      <td>...</td>\n",
              "    </tr>\n",
              "    <tr>\n",
              "      <th>297</th>\n",
              "      <td>Customer service gave me incorrect information...</td>\n",
              "      <td>1 star</td>\n",
              "      <td>0.478129</td>\n",
              "      <td>1</td>\n",
              "    </tr>\n",
              "    <tr>\n",
              "      <th>298</th>\n",
              "      <td>Some testers are dried out and unusable.</td>\n",
              "      <td>2 stars</td>\n",
              "      <td>0.481462</td>\n",
              "      <td>1</td>\n",
              "    </tr>\n",
              "    <tr>\n",
              "      <th>299</th>\n",
              "      <td>Refund policy is too strict, be careful before...</td>\n",
              "      <td>1 star</td>\n",
              "      <td>0.464113</td>\n",
              "      <td>1</td>\n",
              "    </tr>\n",
              "    <tr>\n",
              "      <th>300</th>\n",
              "      <td>They sent me the wrong shade of foundation and...</td>\n",
              "      <td>1 star</td>\n",
              "      <td>0.734445</td>\n",
              "      <td>1</td>\n",
              "    </tr>\n",
              "    <tr>\n",
              "      <th>301</th>\n",
              "      <td>Not a great experience, will shop elsewhere ne...</td>\n",
              "      <td>2 stars</td>\n",
              "      <td>0.589826</td>\n",
              "      <td>1</td>\n",
              "    </tr>\n",
              "  </tbody>\n",
              "</table>\n",
              "<p>302 rows × 4 columns</p>\n",
              "</div>\n",
              "    <div class=\"colab-df-buttons\">\n",
              "\n",
              "  <div class=\"colab-df-container\">\n",
              "    <button class=\"colab-df-convert\" onclick=\"convertToInteractive('df-74248aba-8eab-45c8-a8c3-bca417475dd4')\"\n",
              "            title=\"Convert this dataframe to an interactive table.\"\n",
              "            style=\"display:none;\">\n",
              "\n",
              "  <svg xmlns=\"http://www.w3.org/2000/svg\" height=\"24px\" viewBox=\"0 -960 960 960\">\n",
              "    <path d=\"M120-120v-720h720v720H120Zm60-500h600v-160H180v160Zm220 220h160v-160H400v160Zm0 220h160v-160H400v160ZM180-400h160v-160H180v160Zm440 0h160v-160H620v160ZM180-180h160v-160H180v160Zm440 0h160v-160H620v160Z\"/>\n",
              "  </svg>\n",
              "    </button>\n",
              "\n",
              "  <style>\n",
              "    .colab-df-container {\n",
              "      display:flex;\n",
              "      gap: 12px;\n",
              "    }\n",
              "\n",
              "    .colab-df-convert {\n",
              "      background-color: #E8F0FE;\n",
              "      border: none;\n",
              "      border-radius: 50%;\n",
              "      cursor: pointer;\n",
              "      display: none;\n",
              "      fill: #1967D2;\n",
              "      height: 32px;\n",
              "      padding: 0 0 0 0;\n",
              "      width: 32px;\n",
              "    }\n",
              "\n",
              "    .colab-df-convert:hover {\n",
              "      background-color: #E2EBFA;\n",
              "      box-shadow: 0px 1px 2px rgba(60, 64, 67, 0.3), 0px 1px 3px 1px rgba(60, 64, 67, 0.15);\n",
              "      fill: #174EA6;\n",
              "    }\n",
              "\n",
              "    .colab-df-buttons div {\n",
              "      margin-bottom: 4px;\n",
              "    }\n",
              "\n",
              "    [theme=dark] .colab-df-convert {\n",
              "      background-color: #3B4455;\n",
              "      fill: #D2E3FC;\n",
              "    }\n",
              "\n",
              "    [theme=dark] .colab-df-convert:hover {\n",
              "      background-color: #434B5C;\n",
              "      box-shadow: 0px 1px 3px 1px rgba(0, 0, 0, 0.15);\n",
              "      filter: drop-shadow(0px 1px 2px rgba(0, 0, 0, 0.3));\n",
              "      fill: #FFFFFF;\n",
              "    }\n",
              "  </style>\n",
              "\n",
              "    <script>\n",
              "      const buttonEl =\n",
              "        document.querySelector('#df-74248aba-8eab-45c8-a8c3-bca417475dd4 button.colab-df-convert');\n",
              "      buttonEl.style.display =\n",
              "        google.colab.kernel.accessAllowed ? 'block' : 'none';\n",
              "\n",
              "      async function convertToInteractive(key) {\n",
              "        const element = document.querySelector('#df-74248aba-8eab-45c8-a8c3-bca417475dd4');\n",
              "        const dataTable =\n",
              "          await google.colab.kernel.invokeFunction('convertToInteractive',\n",
              "                                                    [key], {});\n",
              "        if (!dataTable) return;\n",
              "\n",
              "        const docLinkHtml = 'Like what you see? Visit the ' +\n",
              "          '<a target=\"_blank\" href=https://colab.research.google.com/notebooks/data_table.ipynb>data table notebook</a>'\n",
              "          + ' to learn more about interactive tables.';\n",
              "        element.innerHTML = '';\n",
              "        dataTable['output_type'] = 'display_data';\n",
              "        await google.colab.output.renderOutput(dataTable, element);\n",
              "        const docLink = document.createElement('div');\n",
              "        docLink.innerHTML = docLinkHtml;\n",
              "        element.appendChild(docLink);\n",
              "      }\n",
              "    </script>\n",
              "  </div>\n",
              "\n",
              "\n",
              "<div id=\"df-12321b64-6dd8-4a2b-8a4e-b0b0a47adc7e\">\n",
              "  <button class=\"colab-df-quickchart\" onclick=\"quickchart('df-12321b64-6dd8-4a2b-8a4e-b0b0a47adc7e')\"\n",
              "            title=\"Suggest charts\"\n",
              "            style=\"display:none;\">\n",
              "\n",
              "<svg xmlns=\"http://www.w3.org/2000/svg\" height=\"24px\"viewBox=\"0 0 24 24\"\n",
              "     width=\"24px\">\n",
              "    <g>\n",
              "        <path d=\"M19 3H5c-1.1 0-2 .9-2 2v14c0 1.1.9 2 2 2h14c1.1 0 2-.9 2-2V5c0-1.1-.9-2-2-2zM9 17H7v-7h2v7zm4 0h-2V7h2v10zm4 0h-2v-4h2v4z\"/>\n",
              "    </g>\n",
              "</svg>\n",
              "  </button>\n",
              "\n",
              "<style>\n",
              "  .colab-df-quickchart {\n",
              "      --bg-color: #E8F0FE;\n",
              "      --fill-color: #1967D2;\n",
              "      --hover-bg-color: #E2EBFA;\n",
              "      --hover-fill-color: #174EA6;\n",
              "      --disabled-fill-color: #AAA;\n",
              "      --disabled-bg-color: #DDD;\n",
              "  }\n",
              "\n",
              "  [theme=dark] .colab-df-quickchart {\n",
              "      --bg-color: #3B4455;\n",
              "      --fill-color: #D2E3FC;\n",
              "      --hover-bg-color: #434B5C;\n",
              "      --hover-fill-color: #FFFFFF;\n",
              "      --disabled-bg-color: #3B4455;\n",
              "      --disabled-fill-color: #666;\n",
              "  }\n",
              "\n",
              "  .colab-df-quickchart {\n",
              "    background-color: var(--bg-color);\n",
              "    border: none;\n",
              "    border-radius: 50%;\n",
              "    cursor: pointer;\n",
              "    display: none;\n",
              "    fill: var(--fill-color);\n",
              "    height: 32px;\n",
              "    padding: 0;\n",
              "    width: 32px;\n",
              "  }\n",
              "\n",
              "  .colab-df-quickchart:hover {\n",
              "    background-color: var(--hover-bg-color);\n",
              "    box-shadow: 0 1px 2px rgba(60, 64, 67, 0.3), 0 1px 3px 1px rgba(60, 64, 67, 0.15);\n",
              "    fill: var(--button-hover-fill-color);\n",
              "  }\n",
              "\n",
              "  .colab-df-quickchart-complete:disabled,\n",
              "  .colab-df-quickchart-complete:disabled:hover {\n",
              "    background-color: var(--disabled-bg-color);\n",
              "    fill: var(--disabled-fill-color);\n",
              "    box-shadow: none;\n",
              "  }\n",
              "\n",
              "  .colab-df-spinner {\n",
              "    border: 2px solid var(--fill-color);\n",
              "    border-color: transparent;\n",
              "    border-bottom-color: var(--fill-color);\n",
              "    animation:\n",
              "      spin 1s steps(1) infinite;\n",
              "  }\n",
              "\n",
              "  @keyframes spin {\n",
              "    0% {\n",
              "      border-color: transparent;\n",
              "      border-bottom-color: var(--fill-color);\n",
              "      border-left-color: var(--fill-color);\n",
              "    }\n",
              "    20% {\n",
              "      border-color: transparent;\n",
              "      border-left-color: var(--fill-color);\n",
              "      border-top-color: var(--fill-color);\n",
              "    }\n",
              "    30% {\n",
              "      border-color: transparent;\n",
              "      border-left-color: var(--fill-color);\n",
              "      border-top-color: var(--fill-color);\n",
              "      border-right-color: var(--fill-color);\n",
              "    }\n",
              "    40% {\n",
              "      border-color: transparent;\n",
              "      border-right-color: var(--fill-color);\n",
              "      border-top-color: var(--fill-color);\n",
              "    }\n",
              "    60% {\n",
              "      border-color: transparent;\n",
              "      border-right-color: var(--fill-color);\n",
              "    }\n",
              "    80% {\n",
              "      border-color: transparent;\n",
              "      border-right-color: var(--fill-color);\n",
              "      border-bottom-color: var(--fill-color);\n",
              "    }\n",
              "    90% {\n",
              "      border-color: transparent;\n",
              "      border-bottom-color: var(--fill-color);\n",
              "    }\n",
              "  }\n",
              "</style>\n",
              "\n",
              "  <script>\n",
              "    async function quickchart(key) {\n",
              "      const quickchartButtonEl =\n",
              "        document.querySelector('#' + key + ' button');\n",
              "      quickchartButtonEl.disabled = true;  // To prevent multiple clicks.\n",
              "      quickchartButtonEl.classList.add('colab-df-spinner');\n",
              "      try {\n",
              "        const charts = await google.colab.kernel.invokeFunction(\n",
              "            'suggestCharts', [key], {});\n",
              "      } catch (error) {\n",
              "        console.error('Error during call to suggestCharts:', error);\n",
              "      }\n",
              "      quickchartButtonEl.classList.remove('colab-df-spinner');\n",
              "      quickchartButtonEl.classList.add('colab-df-quickchart-complete');\n",
              "    }\n",
              "    (() => {\n",
              "      let quickchartButtonEl =\n",
              "        document.querySelector('#df-12321b64-6dd8-4a2b-8a4e-b0b0a47adc7e button');\n",
              "      quickchartButtonEl.style.display =\n",
              "        google.colab.kernel.accessAllowed ? 'block' : 'none';\n",
              "    })();\n",
              "  </script>\n",
              "</div>\n",
              "\n",
              "  <div id=\"id_60d03e23-f523-4eb5-b756-91894e44bb25\">\n",
              "    <style>\n",
              "      .colab-df-generate {\n",
              "        background-color: #E8F0FE;\n",
              "        border: none;\n",
              "        border-radius: 50%;\n",
              "        cursor: pointer;\n",
              "        display: none;\n",
              "        fill: #1967D2;\n",
              "        height: 32px;\n",
              "        padding: 0 0 0 0;\n",
              "        width: 32px;\n",
              "      }\n",
              "\n",
              "      .colab-df-generate:hover {\n",
              "        background-color: #E2EBFA;\n",
              "        box-shadow: 0px 1px 2px rgba(60, 64, 67, 0.3), 0px 1px 3px 1px rgba(60, 64, 67, 0.15);\n",
              "        fill: #174EA6;\n",
              "      }\n",
              "\n",
              "      [theme=dark] .colab-df-generate {\n",
              "        background-color: #3B4455;\n",
              "        fill: #D2E3FC;\n",
              "      }\n",
              "\n",
              "      [theme=dark] .colab-df-generate:hover {\n",
              "        background-color: #434B5C;\n",
              "        box-shadow: 0px 1px 3px 1px rgba(0, 0, 0, 0.15);\n",
              "        filter: drop-shadow(0px 1px 2px rgba(0, 0, 0, 0.3));\n",
              "        fill: #FFFFFF;\n",
              "      }\n",
              "    </style>\n",
              "    <button class=\"colab-df-generate\" onclick=\"generateWithVariable('df_sentiment')\"\n",
              "            title=\"Generate code using this dataframe.\"\n",
              "            style=\"display:none;\">\n",
              "\n",
              "  <svg xmlns=\"http://www.w3.org/2000/svg\" height=\"24px\"viewBox=\"0 0 24 24\"\n",
              "       width=\"24px\">\n",
              "    <path d=\"M7,19H8.4L18.45,9,17,7.55,7,17.6ZM5,21V16.75L18.45,3.32a2,2,0,0,1,2.83,0l1.4,1.43a1.91,1.91,0,0,1,.58,1.4,1.91,1.91,0,0,1-.58,1.4L9.25,21ZM18.45,9,17,7.55Zm-12,3A5.31,5.31,0,0,0,4.9,8.1,5.31,5.31,0,0,0,1,6.5,5.31,5.31,0,0,0,4.9,4.9,5.31,5.31,0,0,0,6.5,1,5.31,5.31,0,0,0,8.1,4.9,5.31,5.31,0,0,0,12,6.5,5.46,5.46,0,0,0,6.5,12Z\"/>\n",
              "  </svg>\n",
              "    </button>\n",
              "    <script>\n",
              "      (() => {\n",
              "      const buttonEl =\n",
              "        document.querySelector('#id_60d03e23-f523-4eb5-b756-91894e44bb25 button.colab-df-generate');\n",
              "      buttonEl.style.display =\n",
              "        google.colab.kernel.accessAllowed ? 'block' : 'none';\n",
              "\n",
              "      buttonEl.onclick = () => {\n",
              "        google.colab.notebook.generateWithVariable('df_sentiment');\n",
              "      }\n",
              "      })();\n",
              "    </script>\n",
              "  </div>\n",
              "\n",
              "    </div>\n",
              "  </div>\n"
            ],
            "application/vnd.google.colaboratory.intrinsic+json": {
              "type": "dataframe",
              "variable_name": "df_sentiment",
              "summary": "{\n  \"name\": \"df_sentiment\",\n  \"rows\": 302,\n  \"fields\": [\n    {\n      \"column\": \"Review\",\n      \"properties\": {\n        \"dtype\": \"string\",\n        \"num_unique_values\": 302,\n        \"samples\": [\n          \"It\\u2019s an okay place to shop, but nothing special.\",\n          \"Customer service was extremely patient and kind.\",\n          \"They carry exclusive brands that you can\\u2019t find elsewhere.\"\n        ],\n        \"semantic_type\": \"\",\n        \"description\": \"\"\n      }\n    },\n    {\n      \"column\": \"Predicted Sentiment\",\n      \"properties\": {\n        \"dtype\": \"category\",\n        \"num_unique_values\": 5,\n        \"samples\": [\n          \"4 stars\",\n          \"1 star\",\n          \"3 stars\"\n        ],\n        \"semantic_type\": \"\",\n        \"description\": \"\"\n      }\n    },\n    {\n      \"column\": \"Confidence Score\",\n      \"properties\": {\n        \"dtype\": \"number\",\n        \"std\": 0.1437836954495722,\n        \"min\": 0.28254619240760803,\n        \"max\": 0.972285270690918,\n        \"num_unique_values\": 302,\n        \"samples\": [\n          0.7916200757026672,\n          0.5011146068572998,\n          0.5159329771995544\n        ],\n        \"semantic_type\": \"\",\n        \"description\": \"\"\n      }\n    },\n    {\n      \"column\": \"Actual Rating\",\n      \"properties\": {\n        \"dtype\": \"number\",\n        \"std\": 1,\n        \"min\": 1,\n        \"max\": 5,\n        \"num_unique_values\": 4,\n        \"samples\": [\n          4,\n          1,\n          5\n        ],\n        \"semantic_type\": \"\",\n        \"description\": \"\"\n      }\n    }\n  ]\n}"
            }
          },
          "metadata": {},
          "execution_count": 18
        }
      ]
    },
    {
      "cell_type": "code",
      "source": [
        "from sklearn.metrics import accuracy_score, classification_report\n",
        "\n",
        "# Convert predicted sentiment labels to numerical ratings\n",
        "sentiment_mapping = {\n",
        "    \"1 star\": 1,\n",
        "    \"2 stars\": 2,\n",
        "    \"3 stars\": 3,\n",
        "    \"4 stars\": 4,\n",
        "    \"5 stars\": 5\n",
        "}\n",
        "\n",
        "df_sentiment[\"Predicted Rating\"] = df_sentiment[\"Predicted Sentiment\"].map(sentiment_mapping)\n",
        "\n",
        "# Calculate accuracy\n",
        "accuracy = accuracy_score(df_sentiment[\"Actual Rating\"], df_sentiment[\"Predicted Rating\"])\n",
        "\n",
        "# Generate classification report\n",
        "report = classification_report(df_sentiment[\"Actual Rating\"], df_sentiment[\"Predicted Rating\"])\n",
        "\n",
        "# Display metrics\n",
        "print(f\"Accuracy: {accuracy:.4f}\")\n",
        "print(\"\\nClassification Report:\\n\", report)"
      ],
      "metadata": {
        "colab": {
          "base_uri": "https://localhost:8080/"
        },
        "id": "bX2Q2rQHBhgv",
        "outputId": "16c66120-2db5-4ef2-80dd-16cdb91f54ef"
      },
      "execution_count": 19,
      "outputs": [
        {
          "output_type": "stream",
          "name": "stdout",
          "text": [
            "Accuracy: 0.5993\n",
            "\n",
            "Classification Report:\n",
            "               precision    recall  f1-score   support\n",
            "\n",
            "           1       0.91      0.33      0.48        61\n",
            "           2       0.00      0.00      0.00         0\n",
            "           3       0.58      0.92      0.71        90\n",
            "           4       0.43      0.10      0.16        59\n",
            "           5       0.82      0.78      0.80        92\n",
            "\n",
            "    accuracy                           0.60       302\n",
            "   macro avg       0.55      0.43      0.43       302\n",
            "weighted avg       0.69      0.60      0.59       302\n",
            "\n"
          ]
        },
        {
          "output_type": "stream",
          "name": "stderr",
          "text": [
            "/usr/local/lib/python3.11/dist-packages/sklearn/metrics/_classification.py:1565: UndefinedMetricWarning: Recall is ill-defined and being set to 0.0 in labels with no true samples. Use `zero_division` parameter to control this behavior.\n",
            "  _warn_prf(average, modifier, f\"{metric.capitalize()} is\", len(result))\n",
            "/usr/local/lib/python3.11/dist-packages/sklearn/metrics/_classification.py:1565: UndefinedMetricWarning: Recall is ill-defined and being set to 0.0 in labels with no true samples. Use `zero_division` parameter to control this behavior.\n",
            "  _warn_prf(average, modifier, f\"{metric.capitalize()} is\", len(result))\n",
            "/usr/local/lib/python3.11/dist-packages/sklearn/metrics/_classification.py:1565: UndefinedMetricWarning: Recall is ill-defined and being set to 0.0 in labels with no true samples. Use `zero_division` parameter to control this behavior.\n",
            "  _warn_prf(average, modifier, f\"{metric.capitalize()} is\", len(result))\n"
          ]
        }
      ]
    },
    {
      "cell_type": "markdown",
      "source": [
        "# Visualizations"
      ],
      "metadata": {
        "id": "vHLIRWOLEHFm"
      }
    },
    {
      "cell_type": "code",
      "source": [
        "import matplotlib.pyplot as plt\n",
        "import seaborn as sns\n",
        "import numpy as np\n",
        "import pandas as pd\n",
        "from sklearn.metrics import confusion_matrix\n",
        "\n",
        "sentiment_mapping = {\"1 star\": 1, \"2 stars\": 2, \"3 stars\": 3, \"4 stars\": 4, \"5 stars\": 5}\n",
        "df_sentiment[\"Predicted Rating\"] = df_sentiment[\"Predicted Sentiment\"].map(sentiment_mapping)\n",
        "\n",
        "precision = [0.91, 0.00, 0.58, 0.43, 0.82]\n",
        "recall = [0.33, 0.00, 0.92, 0.10, 0.78]\n",
        "f1_score = [0.48, 0.00, 0.71, 0.16, 0.80]\n",
        "ratings = [1, 2, 3, 4, 5]\n"
      ],
      "metadata": {
        "id": "JFFJNFeE7c0z"
      },
      "execution_count": 21,
      "outputs": []
    },
    {
      "cell_type": "code",
      "source": [
        "conf_matrix = confusion_matrix(df_sentiment[\"Actual Rating\"], df_sentiment[\"Predicted Rating\"])\n",
        "plt.figure(figsize=(8,6))\n",
        "sns.heatmap(conf_matrix, annot=True, fmt=\"d\", cmap=\"Blues\", xticklabels=[1,2,3,4,5], yticklabels=[1,2,3,4,5])\n",
        "plt.xlabel(\"Predicted Rating\")\n",
        "plt.ylabel(\"Actual Rating\")\n",
        "plt.title(\"Confusion Matrix\")\n",
        "plt.show()"
      ],
      "metadata": {
        "colab": {
          "base_uri": "https://localhost:8080/",
          "height": 564
        },
        "id": "83xsVdxr7pyp",
        "outputId": "c71e5e8d-09dc-46ec-f714-7bbdc72a3c15"
      },
      "execution_count": 22,
      "outputs": [
        {
          "output_type": "display_data",
          "data": {
            "text/plain": [
              "<Figure size 800x600 with 2 Axes>"
            ],
            "image/png": "[encoded data removed]"
          },
          "metadata": {}
        }
      ]
    },
    {
      "cell_type": "code",
      "source": [
        "# 2. Distribution of Actual vs Predicted Ratings\n",
        "plt.figure(figsize=(10,5))\n",
        "bar_width = 0.4\n",
        "x = np.arange(1, 6)\n",
        "\n",
        "actual_counts = df_sentiment[\"Actual Rating\"].value_counts().reindex([1, 2, 3, 4, 5], fill_value=0)\n",
        "predicted_counts = df_sentiment[\"Predicted Rating\"].value_counts().reindex([1, 2, 3, 4, 5], fill_value=0)\n",
        "\n",
        "plt.bar(x - bar_width/2, actual_counts, bar_width, label=\"Actual Ratings\", alpha=0.7)\n",
        "plt.bar(x + bar_width/2, predicted_counts, bar_width, label=\"Predicted Ratings\", alpha=0.7)\n",
        "plt.xlabel(\"Ratings\")\n",
        "plt.ylabel(\"Count\")\n",
        "plt.xticks(x)\n",
        "plt.legend()\n",
        "plt.title(\"Distribution of Actual vs Predicted Ratings\")\n",
        "plt.show()"
      ],
      "metadata": {
        "colab": {
          "base_uri": "https://localhost:8080/",
          "height": 487
        },
        "id": "6CyHmM1eDa_4",
        "outputId": "cc321a51-b317-46cb-9eaf-28ffdb3d3aea"
      },
      "execution_count": 23,
      "outputs": [
        {
          "output_type": "display_data",
          "data": {
            "text/plain": [
              "<Figure size 1000x500 with 1 Axes>"
            ],
            "image/png": "[encoded data removed]"
          },
          "metadata": {}
        }
      ]
    },
    {
      "cell_type": "code",
      "source": [
        "# 3. Confidence Score Distribution\n",
        "plt.figure(figsize=(10,5))\n",
        "sns.histplot(df_sentiment[\"Confidence Score\"], bins=10, kde=True, color='blue')\n",
        "plt.xlabel(\"Confidence Score\")\n",
        "plt.ylabel(\"Frequency\")\n",
        "plt.title(\"Distribution of Confidence Scores\")\n",
        "plt.show()"
      ],
      "metadata": {
        "colab": {
          "base_uri": "https://localhost:8080/",
          "height": 487
        },
        "id": "qQrZVcnZDbEb",
        "outputId": "197c5434-149d-4399-f473-b283ba1b7cea"
      },
      "execution_count": 24,
      "outputs": [
        {
          "output_type": "display_data",
          "data": {
            "text/plain": [
              "<Figure size 1000x500 with 1 Axes>"
            ],
            "image/png": "[encoded data removed]"
          },
          "metadata": {}
        }
      ]
    },
    {
      "cell_type": "code",
      "source": [
        "plt.figure(figsize=(10,5))\n",
        "sns.boxplot(x=df_sentiment[\"Predicted Rating\"], y=df_sentiment[\"Confidence Score\"])\n",
        "plt.xlabel(\"Predicted Rating\")\n",
        "plt.ylabel(\"Confidence Score\")\n",
        "plt.title(\"Confidence Score Distribution per Predicted Rating\")\n",
        "plt.show()"
      ],
      "metadata": {
        "colab": {
          "base_uri": "https://localhost:8080/",
          "height": 487
        },
        "id": "Q4mhIuigDbJA",
        "outputId": "f145b7d8-2ec8-47e1-d796-7717f54dc700"
      },
      "execution_count": 25,
      "outputs": [
        {
          "output_type": "display_data",
          "data": {
            "text/plain": [
              "<Figure size 1000x500 with 1 Axes>"
            ],
            "image/png": "[encoded data removed]"
          },
          "metadata": {}
        }
      ]
    },
    {
      "cell_type": "code",
      "source": [
        "x = np.arange(len(ratings))\n",
        "bar_width = 0.2\n",
        "\n",
        "plt.figure(figsize=(10,5))\n",
        "plt.bar(x - bar_width, precision, bar_width, label=\"Precision\", alpha=0.7)\n",
        "plt.bar(x, recall, bar_width, label=\"Recall\", alpha=0.7)\n",
        "plt.bar(x + bar_width, f1_score, bar_width, label=\"F1-score\", alpha=0.7)\n",
        "\n",
        "plt.xlabel(\"Ratings\")\n",
        "plt.ylabel(\"Score\")\n",
        "plt.xticks(x, ratings)\n",
        "plt.legend()\n",
        "plt.title(\"Precision, Recall, F1-score per Rating\")\n",
        "plt.show()"
      ],
      "metadata": {
        "colab": {
          "base_uri": "https://localhost:8080/",
          "height": 487
        },
        "id": "EZNinAckDbN4",
        "outputId": "345357c5-35fa-4c91-ec1c-9decaff968ed"
      },
      "execution_count": 26,
      "outputs": [
        {
          "output_type": "display_data",
          "data": {
            "text/plain": [
              "<Figure size 1000x500 with 1 Axes>"
            ],
            "image/png": "[encoded data removed]"
          },
          "metadata": {}
        }
      ]
    },
    {
      "cell_type": "markdown",
      "source": [
        "## **Marketing Insights from Sentiment Analysis**"
      ],
      "metadata": {
        "id": "VQPyCjxWFp6b"
      }
    },
    {
      "cell_type": "markdown",
      "source": [
        "### **1️⃣ Brand Perception & Customer Loyalty**"
      ],
      "metadata": {
        "id": "pPALbBNCFp-D"
      }
    },
    {
      "cell_type": "markdown",
      "source": [
        "**Positive Reviews:**  \n",
        "- Customers appreciate **exclusive products, premium packaging, and fast delivery**.  \n",
        "- Many **returning customers** highlight the **loyalty program benefits**.  \n",
        "- Customers value **store aesthetics & shopping experience**.  \n",
        "\n",
        "**📌 Marketing Strategy:**  \n",
        "- **Emphasize exclusivity** in ads—highlight rare perfumes & limited collections.  \n",
        "- Promote a **VIP loyalty tier** for frequent shoppers.  \n",
        "- Use **customer testimonials** in marketing campaigns."
      ],
      "metadata": {
        "id": "xMAdlfm6Fp_r"
      }
    },
    {
      "cell_type": "markdown",
      "source": [
        "### **2️⃣ Price Sensitivity & Discounts**"
      ],
      "metadata": {
        "id": "fWzRt2SsFqBj"
      }
    },
    {
      "cell_type": "markdown",
      "source": [
        "**Mixed Sentiment in Price Perception:**  \n",
        "- Some reviews indicate **pricing is fair for the quality**.  \n",
        "- Others mention that **prices are high compared to competitors**.  \n",
        "- Discount system is liked, but **often doesn’t apply to popular products**.  \n",
        "\n",
        "**📌 Marketing Strategy:**  \n",
        "- Introduce **tiered pricing models** (budget-friendly & premium options).  \n",
        "- Run **flash sales on popular items** to drive traffic.  \n",
        "- **Highlight value over price** in messaging: emphasize product quality & experience."
      ],
      "metadata": {
        "id": "t2qEbNeVFqEb"
      }
    },
    {
      "cell_type": "markdown",
      "source": [
        "### **3️⃣ Customer Engagement & Trust**"
      ],
      "metadata": {
        "id": "4pv-95gJFqGb"
      }
    },
    {
      "cell_type": "markdown",
      "source": [
        "**Consultants & Service:**  \n",
        "- Customers **praise staff knowledge** but **some report unhelpful service**.  \n",
        "- Complaints about **staff pushing expensive products** instead of assisting.  \n",
        "\n",
        "**📌 Marketing Strategy:**  \n",
        "- Train staff on **customer-first selling techniques**.  \n",
        "- Create **personalized shopping experiences** with AI-driven recommendations.  \n",
        "- Introduce **“Beauty Advisors” live sessions** for online engagement."
      ],
      "metadata": {
        "id": "oMZIp0U3FqID"
      }
    },
    {
      "cell_type": "markdown",
      "source": [
        "## **Operational Insights for Improvement**"
      ],
      "metadata": {
        "id": "am5qbEMDFqJu"
      }
    },
    {
      "cell_type": "markdown",
      "source": [
        "### **1️⃣ Delivery & Supply Chain**"
      ],
      "metadata": {
        "id": "P8KeXjekFqK8"
      }
    },
    {
      "cell_type": "markdown",
      "source": [
        "**Delivery Speed & Stock Issues:**  \n",
        "- Many **praise fast delivery**, but **delays occur during peak seasons**.  \n",
        "- Complaints about **items going out of stock too quickly**.  \n",
        "\n",
        "**📌 Operational Fixes:**  \n",
        "- Implement **demand forecasting** for popular items.  \n",
        "- Partner with **local couriers for faster fulfillment**.  \n",
        "- Offer **real-time stock updates** on the website."
      ],
      "metadata": {
        "id": "uzsOkzG3GShu"
      }
    },
    {
      "cell_type": "markdown",
      "source": [
        "### **2️⃣ Checkout & Website Experience**\n"
      ],
      "metadata": {
        "id": "I1A2zRFOGSvv"
      }
    },
    {
      "cell_type": "markdown",
      "source": [
        "**Website & In-Store Checkout Complaints:**  \n",
        "- Customers report **slow checkout lines** in-store.  \n",
        "- Online store **lags during high traffic**.  \n",
        "- Some reviews mention **confusing return policies**.  \n",
        "\n",
        "**📌 Operational Fixes:**  \n",
        "- Enable **self-checkout kiosks** in-store.  \n",
        "- Upgrade website **server capacity** for peak shopping times.  \n",
        "- Simplify **return policies** and provide **instant refund options**."
      ],
      "metadata": {
        "id": "HevLBbiqGSxv"
      }
    },
    {
      "cell_type": "markdown",
      "source": [
        "## **Next Steps**"
      ],
      "metadata": {
        "id": "Ut9yKxsWGSzY"
      }
    },
    {
      "cell_type": "markdown",
      "source": [
        "✅ **Targeted Marketing Campaigns** → Focus on exclusivity, loyalty, and value.  \n",
        "✅ **Operational Fixes** → Improve stock forecasting, website speed, and checkout.  \n",
        "✅ **Customer Engagement** → Train staff, introduce AI-based recommendations, and improve customer interactions.  "
      ],
      "metadata": {
        "id": "VfYiAT_-GS1A"
      }
    }
  ]
}